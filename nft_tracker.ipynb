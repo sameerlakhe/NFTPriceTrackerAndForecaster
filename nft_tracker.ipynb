{
 "cells": [
  {
   "cell_type": "code",
   "execution_count": 19,
   "id": "b4c9e29a-29c1-469b-ba87-c8683e85d7c7",
   "metadata": {},
   "outputs": [],
   "source": [
    "# Initial imports\n",
    "import os\n",
    "import requests\n",
    "import pandas as pd\n",
    "from dotenv import load_dotenv\n",
    "import alpaca_trade_api as tradeapi\n",
    "from MCForecastTools import MCSimulation\n",
    "import json\n",
    "from datetime import datetime \n",
    "from alpaca_trade_api.rest import REST, TimeFrame\n",
    "import time\n",
    "from time import sleep\n",
    "%matplotlib inline"
   ]
  },
  {
   "cell_type": "code",
   "execution_count": 2,
   "id": "340d5c5b-0816-43e9-b319-331c1e095e80",
   "metadata": {},
   "outputs": [],
   "source": [
    "# Load .env enviroment variables\n",
    "load_dotenv()\n",
    "opensea_api_key = os.getenv(\"opensea_api_key\")"
   ]
  },
  {
   "cell_type": "code",
   "execution_count": 3,
   "id": "25d2b32d-1115-406d-a5c3-8edc9f8e23fc",
   "metadata": {},
   "outputs": [],
   "source": [
    "opensea_collections_url = \"https://api.opensea.io/api/v1/collections\"\n",
    "opensea_collection_stats_url = \"https://api.opensea.io/api/v1/collection/doodles-official/stats\""
   ]
  },
  {
   "cell_type": "code",
   "execution_count": 6,
   "id": "30eb5f7a-a7d8-49cf-8329-141ad91fd415",
   "metadata": {},
   "outputs": [],
   "source": [
    "def get_opensea_api_data(url):\n",
    "    response_data = requests.get(url).json()\n",
    "    print(json.dumps(response_data, indent=2))\n",
    "    return response_data"
   ]
  },
  {
   "cell_type": "code",
   "execution_count": 8,
   "id": "c56773da-4506-47e7-90f6-d35c3e6dd0ed",
   "metadata": {},
   "outputs": [
    {
     "name": "stdout",
     "output_type": "stream",
     "text": [
      "{\n",
      "  \"stats\": {\n",
      "    \"one_day_volume\": 158.2678205811,\n",
      "    \"one_day_change\": 0.13673648338073685,\n",
      "    \"one_day_sales\": 11.0,\n",
      "    \"one_day_average_price\": 14.38798368919091,\n",
      "    \"seven_day_volume\": 1709.4142400295816,\n",
      "    \"seven_day_change\": -0.6349826634695173,\n",
      "    \"seven_day_sales\": 101.0,\n",
      "    \"seven_day_average_price\": 16.92489346563942,\n",
      "    \"thirty_day_volume\": 14452.315883643685,\n",
      "    \"thirty_day_change\": 0.491459644932021,\n",
      "    \"thirty_day_sales\": 964.0,\n",
      "    \"thirty_day_average_price\": 14.992028924941582,\n",
      "    \"total_volume\": 102692.81166761978,\n",
      "    \"total_sales\": 20875.0,\n",
      "    \"total_supply\": 10000.0,\n",
      "    \"count\": 10000.0,\n",
      "    \"num_owners\": 4646,\n",
      "    \"average_price\": 4.91941612779017,\n",
      "    \"num_reports\": 66,\n",
      "    \"market_cap\": 169248.9346563942,\n",
      "    \"floor_price\": 13.9\n",
      "  }\n",
      "}\n"
     ]
    },
    {
     "data": {
      "text/plain": [
       "{'stats': {'one_day_volume': 158.2678205811,\n",
       "  'one_day_change': 0.13673648338073685,\n",
       "  'one_day_sales': 11.0,\n",
       "  'one_day_average_price': 14.38798368919091,\n",
       "  'seven_day_volume': 1709.4142400295816,\n",
       "  'seven_day_change': -0.6349826634695173,\n",
       "  'seven_day_sales': 101.0,\n",
       "  'seven_day_average_price': 16.92489346563942,\n",
       "  'thirty_day_volume': 14452.315883643685,\n",
       "  'thirty_day_change': 0.491459644932021,\n",
       "  'thirty_day_sales': 964.0,\n",
       "  'thirty_day_average_price': 14.992028924941582,\n",
       "  'total_volume': 102692.81166761978,\n",
       "  'total_sales': 20875.0,\n",
       "  'total_supply': 10000.0,\n",
       "  'count': 10000.0,\n",
       "  'num_owners': 4646,\n",
       "  'average_price': 4.91941612779017,\n",
       "  'num_reports': 66,\n",
       "  'market_cap': 169248.9346563942,\n",
       "  'floor_price': 13.9}}"
      ]
     },
     "execution_count": 8,
     "metadata": {},
     "output_type": "execute_result"
    }
   ],
   "source": [
    "#get_opensea_api_data(opensea_collections_url)\n",
    "get_opensea_api_data(opensea_collection_stats_url)"
   ]
  },
  {
   "cell_type": "code",
   "execution_count": 15,
   "id": "0523e935-b3e9-4977-8904-80293983b227",
   "metadata": {},
   "outputs": [],
   "source": [
    "def get_events(start_date, end_date, cursor='', event_type='successful', **kwargs):\n",
    "    url = \"https://api.opensea.io/api/v1/events\"\n",
    "    query = { \n",
    "        \"only_opensea\": \"false\", \n",
    "        \"occurred_before\": end_date,\n",
    "        \"occurred_after\": start_date,\n",
    "        \"event_type\": event_type,\n",
    "        \"cursor\": cursor,\n",
    "         **kwargs\n",
    "    }\n",
    "\n",
    "    headers = {\n",
    "        \"Accept\": \"application/json\",\n",
    "        \"X-API-KEY\": opensea_api_key\n",
    "    }\n",
    "    response = requests.request(\"GET\", url, headers=headers, params=query)\n",
    "\n",
    "    return response.json()"
   ]
  },
  {
   "cell_type": "code",
   "execution_count": 10,
   "id": "3f11cdbc-dc84-4141-a533-6153bfd0287f",
   "metadata": {},
   "outputs": [],
   "source": [
    "def parse_event(event):\n",
    "    record = {}\n",
    "    asset = event.get('asset')\n",
    "    if asset == None:\n",
    "        return None # if there's no asset that means it's not a single NFT transaction so skip this item\n",
    "\n",
    "    #collection\n",
    "    record['collection_slug'] = asset['collection']['slug']\n",
    "    record['collection_name'] = asset['collection']['name']\n",
    "    record['collection_url'] = \"https://opensea.io/collection/\" + asset['collection']['slug']\n",
    "\n",
    "    #asset\n",
    "    record['asset_id'] = asset['id']\n",
    "    record['asset_name'] = asset['name']\n",
    "    record['asset_description'] = asset['description']\n",
    "    record['asset_contract_date'] = asset['asset_contract']['created_date']\n",
    "    record['asset_url'] = asset['permalink']\n",
    "    record['asset_img_url'] = asset['image_url']\n",
    "\n",
    "    #event\n",
    "    record['event_id'] = event['id']\n",
    "    record['event_time'] = event.get('created_date')\n",
    "    record['event_auction_type'] = event.get('auction_type')\n",
    "    record['event_contract_address'] = event.get('contract_address')\n",
    "    record['event_quantity'] = event.get('quantity')\n",
    "    record['event_payment_symbol'] =  None if event.get('payment_token') == None else event.get('payment_token').get('symbol')\n",
    "\n",
    "    decimals = 18\n",
    "    if event.get('payment_token') != None:\n",
    "        decimals = event.get('payment_token').get('decimals')\n",
    "\n",
    "    price_str = event['total_price']\n",
    "\n",
    "    try: \n",
    "        if len(price_str) < decimals:\n",
    "            price_str =  \"0.\" + (decimals-len(price_str)) * \"0\" + price_str\n",
    "            record['event_total_price'] = float(price_str)\n",
    "        else:\n",
    "            record['event_total_price'] = float(price_str[:-decimals] + \".\" + price_str[len(price_str)-decimals:])\n",
    "    except:\n",
    "        print(event)\n",
    "\n",
    "    return record"
   ]
  },
  {
   "cell_type": "code",
   "execution_count": 11,
   "id": "7fd8d864-e455-4a43-950c-4dc4f35f7457",
   "metadata": {},
   "outputs": [],
   "source": [
    "def fetch_all_events(start_date, end_date, pause=1, **kwargs):\n",
    "    result = list()\n",
    "    next = ''\n",
    "    fetch = True\n",
    "\n",
    "    print(f\"Fetching events between {start_date} and {end_date}\")\n",
    "    while fetch:\n",
    "        response = get_events(int(start_date.timestamp()), int(end_date.timestamp()), cursor=next, **kwargs)\n",
    "\n",
    "        for event in response['asset_events']:\n",
    "            cleaned_event = parse_event(event)\n",
    "            \n",
    "            if cleaned_event != None:\n",
    "                result.append(cleaned_event)\n",
    "\n",
    "        if response['next'] is None:\n",
    "            fetch = False\n",
    "        else:\n",
    "            next = response['next']\n",
    "\n",
    "        sleep(pause)\n",
    "\n",
    "    return result"
   ]
  },
  {
   "cell_type": "code",
   "execution_count": 23,
   "id": "0becf3fc-22cf-4334-bebc-b2084d5363ed",
   "metadata": {},
   "outputs": [
    {
     "name": "stdout",
     "output_type": "stream",
     "text": [
      "Fetching events between 2020-05-17 00:00:00 and 2020-05-17 00:00:00\n"
     ]
    },
    {
     "data": {
      "text/plain": [
       "[]"
      ]
     },
     "execution_count": 23,
     "metadata": {},
     "output_type": "execute_result"
    }
   ],
   "source": [
    "import datetime\n",
    "\n",
    "start_date = datetime.datetime(2022, 2, 10)\n",
    "end_date = datetime.datetime(2022, 4, 10)\n",
    "\n",
    "result = fetch_all_events(x,x)\n",
    "result"
   ]
  },
  {
   "cell_type": "code",
   "execution_count": null,
   "id": "bdd8e910-19d9-41a0-b58a-0a6bc7096b8f",
   "metadata": {},
   "outputs": [],
   "source": []
  }
 ],
 "metadata": {
  "kernelspec": {
   "display_name": "Python 3 (ipykernel)",
   "language": "python",
   "name": "python3"
  },
  "language_info": {
   "codemirror_mode": {
    "name": "ipython",
    "version": 3
   },
   "file_extension": ".py",
   "mimetype": "text/x-python",
   "name": "python",
   "nbconvert_exporter": "python",
   "pygments_lexer": "ipython3",
   "version": "3.7.11"
  }
 },
 "nbformat": 4,
 "nbformat_minor": 5
}
